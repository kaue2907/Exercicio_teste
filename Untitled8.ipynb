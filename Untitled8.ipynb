{
  "nbformat": 4,
  "nbformat_minor": 0,
  "metadata": {
    "colab": {
      "provenance": [],
      "authorship_tag": "ABX9TyMMIPZGKDqtr6XLG0RlH0KF",
      "include_colab_link": true
    },
    "kernelspec": {
      "name": "python3",
      "display_name": "Python 3"
    },
    "language_info": {
      "name": "python"
    }
  },
  "cells": [
    {
      "cell_type": "markdown",
      "metadata": {
        "id": "view-in-github",
        "colab_type": "text"
      },
      "source": [
        "<a href=\"https://colab.research.google.com/github/kaue2907/Exercicio_teste/blob/main/Untitled8.ipynb\" target=\"_parent\"><img src=\"https://colab.research.google.com/assets/colab-badge.svg\" alt=\"Open In Colab\"/></a>"
      ]
    },
    {
      "cell_type": "markdown",
      "source": [
        "Faça um programa que leia um nome de usuário e a sua senha e não aceite a senha igual ao nome do usuário, mostrando uma mensagem de erro e voltando a pedir as informações."
      ],
      "metadata": {
        "id": "Fi1kiUPKk5QY"
      }
    },
    {
      "cell_type": "code",
      "execution_count": null,
      "metadata": {
        "id": "Aqu-izqjEeE3"
      },
      "outputs": [],
      "source": [
        "nome = (input(\"Digite o nome de usuário: \"))\n",
        "senha = (input(\"Digite a senha: \"))\n",
        "while senha == nome:\n",
        "  senha = (input(\"A senha não pode ser igual ao nome de usuário\"))\n",
        "print(\"bem-vindo\")"
      ]
    },
    {
      "cell_type": "markdown",
      "source": [
        "Escreva um programa que conte de 1 a 10 e imprima cada número."
      ],
      "metadata": {
        "id": "Zego6XoXltkO"
      }
    },
    {
      "cell_type": "code",
      "source": [
        "contador = 1\n",
        "while contador <= 10:\n",
        "  print(f\"numeros * {contador}\")\n",
        "  contador += 1"
      ],
      "metadata": {
        "id": "Dequl1cLLc-1"
      },
      "execution_count": null,
      "outputs": []
    },
    {
      "cell_type": "markdown",
      "source": [
        "Escreva um programa que imprima os números pares de 1 a 20."
      ],
      "metadata": {
        "id": "OLI1H4KxmL3X"
      }
    },
    {
      "cell_type": "code",
      "source": [
        "contador = 2\n",
        "while contador <= 20:\n",
        "  print(f\"numeros * {contador}\")\n",
        "  contador += 2"
      ],
      "metadata": {
        "id": "tgyY9NHlT7bG"
      },
      "execution_count": null,
      "outputs": []
    },
    {
      "cell_type": "markdown",
      "source": [
        "Escreva um programa que solicite ao usuário que insira um número e, em seguida, imprima todos os números de 1 até esse número."
      ],
      "metadata": {
        "id": "WQeWeTmlmYdT"
      }
    },
    {
      "cell_type": "code",
      "source": [
        "numero = int(input(\"Digite um número\"))\n",
        "contador = 1\n",
        "while contador <= numero:\n",
        "  print(f\"numeros * {contador}\")\n",
        "  contador += 1"
      ],
      "metadata": {
        "id": "zRQgbCYxU4bZ"
      },
      "execution_count": null,
      "outputs": []
    },
    {
      "cell_type": "markdown",
      "source": [
        "Escreva um programa que solicite ao usuário que insira um número e, em seguida, imprima todos os números pares de 2 até esse número."
      ],
      "metadata": {
        "id": "sq9FjzdtnQtP"
      }
    },
    {
      "cell_type": "code",
      "source": [
        "numero = int(input(\"Digite um número\"))\n",
        "contador = 2\n",
        "while contador <= numero:\n",
        "  print(f\"numeros * {contador}\")\n",
        "  contador += 2"
      ],
      "metadata": {
        "id": "veSz2zxkWsze"
      },
      "execution_count": null,
      "outputs": []
    },
    {
      "cell_type": "markdown",
      "source": [
        "Escreva um programa que solicite ao usuário que insira um número e, em seguida, imprima a tabuada desse número até 10."
      ],
      "metadata": {
        "id": "ehzp6rIpmwrH"
      }
    },
    {
      "cell_type": "code",
      "source": [
        "numero = int(input(\"Digite um número\"))\n",
        "contador = 1\n",
        "while contador <= 10:\n",
        "  resultado = numero * contador\n",
        "  print(f\"{numero} X {contador} = {resultado}\")\n",
        "  contador += 1"
      ],
      "metadata": {
        "id": "Rbb_ilkFXp2r"
      },
      "execution_count": null,
      "outputs": []
    },
    {
      "cell_type": "markdown",
      "source": [
        "Escreva um programa que solicite ao usuário que insira uma senha. O programa deve continuar solicitando a senha até que o usuário insira a senha correta."
      ],
      "metadata": {
        "id": "NcF0pnQvm5-i"
      }
    },
    {
      "cell_type": "code",
      "source": [
        "senha = int(input(\"Digite a senha: \"))\n",
        "senha_correta = 1234\n",
        "while senha != senha_correta:\n",
        "  senha = int(input(\"Digite a senha correta: \"))\n",
        "print(\"bem-vindo\")"
      ],
      "metadata": {
        "id": "H7xAv2aRYhea"
      },
      "execution_count": null,
      "outputs": []
    },
    {
      "cell_type": "code",
      "source": [],
      "metadata": {
        "id": "Lbav11bvcawP"
      },
      "execution_count": null,
      "outputs": []
    }
  ]
}